{
 "cells": [
  {
   "cell_type": "code",
   "execution_count": 13,
   "metadata": {},
   "outputs": [],
   "source": [
    "import pandas as pd\n",
    "pd.set_option('display.max_rows', None)\n",
    "\n",
    "import re\n",
    "import requests\n",
    "from tqdm.notebook import tqdm"
   ]
  },
  {
   "cell_type": "code",
   "execution_count": 2,
   "metadata": {},
   "outputs": [],
   "source": [
    "df = pd.read_csv(\"script_ref.csv\", index_col=0)\n",
    "df = df[df[\"script_downloaded\"] == \"Yes\"]\n",
    "df.reset_index(drop=True, inplace=True)"
   ]
  },
  {
   "cell_type": "code",
   "execution_count": 3,
   "metadata": {},
   "outputs": [],
   "source": [
    "OMDB_columns = [\"OMDB_Title\", \"Rating\", \"Release\", \"Runtime\", \"Genre\", \"Director\", \"Writer\", \n",
    "                  \"Language\", \"Country\", \"Noms\", \"IMDB\", \"IMDB_Votes\", \"Rotten_Tomatoes\",\n",
    "                  \"Metascore\", \"Boxoffice\"]"
   ]
  },
  {
   "cell_type": "code",
   "execution_count": 4,
   "metadata": {},
   "outputs": [],
   "source": [
    "OMDB = pd.DataFrame(index=df[\"title\"], columns=OMDB_columns)"
   ]
  },
  {
   "cell_type": "code",
   "execution_count": 21,
   "metadata": {},
   "outputs": [
    {
     "data": {
      "application/vnd.jupyter.widget-view+json": {
       "model_id": "f28eed5e51934062beb0a14fb6100a6a",
       "version_major": 2,
       "version_minor": 0
      },
      "text/plain": [
       "Processing:   0%|          | 0/196 [00:00<?, ?it/s]"
      ]
     },
     "metadata": {},
     "output_type": "display_data"
    }
   ],
   "source": [
    "for i in tqdm(range(950, len(OMDB)), desc=\"Processing\"):\n",
    "\n",
    "    title = df[\"title\"][i]\n",
    "    if \", The\" in title:\n",
    "        parts = title.split(\", The\")\n",
    "        title = f\"The {parts[0].rsplit(', ', 1)[-1]}\"\n",
    "    # Creating the API request url\n",
    "    base_url = \"http://www.omdbapi.com/\"\n",
    "    movie_id = \"?t=\" + title.replace(\" \", \"+\")\n",
    "    apikey = \"&apikey=\" + #API Key\n",
    "    url = base_url + movie_id + apikey\n",
    "\n",
    "    # Requesting the data and making a json file\n",
    "    response = requests.get(url)\n",
    "    data = response.json() \n",
    "\n",
    "    #Populating the dataframe with the appropriate values\n",
    "    if data[\"Response\"] == \"True\":\n",
    "        OMDB[\"OMDB_Title\"][i] = data[\"Title\"]\n",
    "        OMDB[\"Rating\"][i] = data[\"Rated\"]\n",
    "        OMDB[\"Release\"][i] = data[\"Released\"]\n",
    "        OMDB[\"Runtime\"][i] = data[\"Runtime\"]\n",
    "        OMDB[\"Genre\"][i] = data[\"Genre\"]\n",
    "        OMDB[\"Director\"][i] = data[\"Director\"]\n",
    "        OMDB[\"Writer\"][i] = data[\"Writer\"]\n",
    "        OMDB[\"Language\"][i] = data[\"Language\"]\n",
    "        OMDB[\"Country\"][i] = data[\"Country\"]\n",
    "        OMDB[\"Noms\"][i] = data[\"Awards\"]\n",
    "        OMDB[\"IMDB\"][i] = data[\"imdbRating\"]\n",
    "        OMDB[\"IMDB_Votes\"][i] = data[\"imdbVotes\"]\n",
    "        OMDB[\"Rotten_Tomatoes\"][i] = data[\"Ratings\"][1][\"Value\"] if len(data[\"Ratings\"]) >= 2 else None\n",
    "        OMDB[\"Metascore\"][i] = data[\"Metascore\"]\n",
    "        OMDB[\"Boxoffice\"][i] = data[\"BoxOffice\"] if \"BoxOffice\" in data else None"
   ]
  },
  {
   "cell_type": "code",
   "execution_count": 24,
   "metadata": {},
   "outputs": [],
   "source": [
    "OMDB.to_csv(\"OMDB.csv\")"
   ]
  }
 ],
 "metadata": {
  "kernelspec": {
   "display_name": "base",
   "language": "python",
   "name": "python3"
  },
  "language_info": {
   "codemirror_mode": {
    "name": "ipython",
    "version": 3
   },
   "file_extension": ".py",
   "mimetype": "text/x-python",
   "name": "python",
   "nbconvert_exporter": "python",
   "pygments_lexer": "ipython3",
   "version": "3.11.4"
  }
 },
 "nbformat": 4,
 "nbformat_minor": 2
}
