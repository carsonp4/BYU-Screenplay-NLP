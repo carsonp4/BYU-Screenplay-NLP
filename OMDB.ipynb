{
 "cells": [
  {
   "cell_type": "code",
   "execution_count": 1,
   "metadata": {},
   "outputs": [],
   "source": [
    "import pandas as pd\n",
    "\n",
    "import re\n",
    "import requests\n",
    "from tqdm.notebook import tqdm"
   ]
  },
  {
   "cell_type": "code",
   "execution_count": 2,
   "metadata": {},
   "outputs": [],
   "source": [
    "df = pd.read_csv(\"script_ref.csv\", index_col=0)\n",
    "df = df[df[\"script_downloaded\"] == \"Yes\"]\n",
    "df.reset_index(drop=True, inplace=True)"
   ]
  },
  {
   "cell_type": "code",
   "execution_count": 3,
   "metadata": {},
   "outputs": [],
   "source": [
    "OMDB_columns = [\"OMDB_Title\", \"Rating\", \"Release\", \"Runtime\", \"Genre\", \"Director\", \"Writer\", \n",
    "                  \"Language\", \"Country\", \"Noms\", \"IMDB\", \"IMDB_Votes\", \"Rotten_Tomatoes\",\n",
    "                  \"Metascore\", \"Boxoffice\"]"
   ]
  },
  {
   "cell_type": "code",
   "execution_count": 4,
   "metadata": {},
   "outputs": [],
   "source": [
    "OMDB = pd.DataFrame(index=df[\"title\"], columns=OMDB_columns)"
   ]
  },
  {
   "cell_type": "code",
   "execution_count": 21,
   "metadata": {},
   "outputs": [
    {
     "data": {
      "application/vnd.jupyter.widget-view+json": {
       "model_id": "f28eed5e51934062beb0a14fb6100a6a",
       "version_major": 2,
       "version_minor": 0
      },
      "text/plain": [
       "Processing:   0%|          | 0/196 [00:00<?, ?it/s]"
      ]
     },
     "metadata": {},
     "output_type": "display_data"
    }
   ],
   "source": [
    "for i in tqdm(range(950, len(OMDB)), desc=\"Processing\"):\n",
    "\n",
    "    title = df[\"title\"][i]\n",
    "    if \", The\" in title:\n",
    "        parts = title.split(\", The\")\n",
    "        title = f\"The {parts[0].rsplit(', ', 1)[-1]}\"\n",
    "    # Creating the API request url\n",
    "    base_url = \"http://www.omdbapi.com/\"\n",
    "    movie_id = \"?t=\" + title.replace(\" \", \"+\")\n",
    "    apikey = \"&apikey=\" + #API Key\n",
    "    url = base_url + movie_id + apikey\n",
    "\n",
    "    # Requesting the data and making a json file\n",
    "    response = requests.get(url)\n",
    "    data = response.json() \n",
    "\n",
    "    #Populating the dataframe with the appropriate values\n",
    "    if data[\"Response\"] == \"True\":\n",
    "        OMDB[\"OMDB_Title\"][i] = data[\"Title\"]\n",
    "        OMDB[\"Rating\"][i] = data[\"Rated\"]\n",
    "        OMDB[\"Release\"][i] = data[\"Released\"]\n",
    "        OMDB[\"Runtime\"][i] = data[\"Runtime\"]\n",
    "        OMDB[\"Genre\"][i] = data[\"Genre\"]\n",
    "        OMDB[\"Director\"][i] = data[\"Director\"]\n",
    "        OMDB[\"Writer\"][i] = data[\"Writer\"]\n",
    "        OMDB[\"Language\"][i] = data[\"Language\"]\n",
    "        OMDB[\"Country\"][i] = data[\"Country\"]\n",
    "        OMDB[\"Noms\"][i] = data[\"Awards\"]\n",
    "        OMDB[\"IMDB\"][i] = data[\"imdbRating\"]\n",
    "        OMDB[\"IMDB_Votes\"][i] = data[\"imdbVotes\"]\n",
    "        OMDB[\"Rotten_Tomatoes\"][i] = data[\"Ratings\"][1][\"Value\"] if len(data[\"Ratings\"]) >= 2 else None\n",
    "        OMDB[\"Metascore\"][i] = data[\"Metascore\"]\n",
    "        OMDB[\"Boxoffice\"][i] = data[\"BoxOffice\"] if \"BoxOffice\" in data else None"
   ]
  },
  {
   "cell_type": "code",
   "execution_count": 24,
   "metadata": {},
   "outputs": [],
   "source": [
    "OMDB.to_csv(\"OMDB_raw.csv\")"
   ]
  },
  {
   "cell_type": "markdown",
   "metadata": {},
   "source": [
    "Ensure We Have Right Movie"
   ]
  },
  {
   "cell_type": "code",
   "execution_count": 108,
   "metadata": {},
   "outputs": [],
   "source": [
    "scripts = pd.read_csv(\"script_ref.csv\", index_col=0)\n",
    "OMDB = pd.read_csv(\"OMDB_raw.csv\")"
   ]
  },
  {
   "cell_type": "code",
   "execution_count": 109,
   "metadata": {},
   "outputs": [],
   "source": [
    "scripts = scripts[scripts[\"script_downloaded\"] == \"Yes\"]\n",
    "scripts = scripts[[\"title\", \"writer\"]]"
   ]
  },
  {
   "cell_type": "code",
   "execution_count": 110,
   "metadata": {},
   "outputs": [],
   "source": [
    "OMDB = OMDB[OMDB[\"OMDB_Title\"].isna() == False]\n",
    "OMDB = OMDB[[\"title\", \"Writer\"]]"
   ]
  },
  {
   "cell_type": "code",
   "execution_count": 111,
   "metadata": {},
   "outputs": [],
   "source": [
    "write = scripts.merge(OMDB, on=\"title\")"
   ]
  },
  {
   "cell_type": "code",
   "execution_count": 112,
   "metadata": {},
   "outputs": [],
   "source": [
    "write[\"writer\"] = write[\"writer\"].str.replace(\"Written by \", \"\")\n",
    "write.columns = {\"title\", \"scrape_writer\", \"OMDB_writer\"}\n",
    "write[\"scrape_writer\"] = write[\"scrape_writer\"].str.replace(\",\", \" \")\n",
    "write[\"OMDB_writer\"] = write[\"OMDB_writer\"].str.replace(\",\", \"\")"
   ]
  },
  {
   "cell_type": "code",
   "execution_count": 113,
   "metadata": {},
   "outputs": [],
   "source": [
    "def count_common_words(row):\n",
    "    scrape_writers = set(str(row['scrape_writer']).split()) \n",
    "    OMDB_writers = set(str(row['OMDB_writer']).split())  \n",
    "    return len(scrape_writers.intersection(OMDB_writers))\n",
    "\n",
    "write['common_words_count'] = write.apply(count_common_words, axis=1)"
   ]
  },
  {
   "cell_type": "code",
   "execution_count": 114,
   "metadata": {},
   "outputs": [],
   "source": [
    "keep = write[write[\"common_words_count\"] > 0]"
   ]
  },
  {
   "cell_type": "code",
   "execution_count": 115,
   "metadata": {},
   "outputs": [],
   "source": [
    "keep = keep[~keep['title'].isin([\"All the King's Men\", \"Clash of the Titans\", \"Hard to Kill\", \"Program, The\", \"Star Wars: The Force Awakens\", ])]"
   ]
  },
  {
   "cell_type": "code",
   "execution_count": 118,
   "metadata": {},
   "outputs": [],
   "source": [
    "OMDB = pd.read_csv(\"OMDB_raw.csv\")\n",
    "movie_data = OMDB[OMDB[\"title\"].isin(keep['title'])].reset_index(drop=True)"
   ]
  },
  {
   "cell_type": "markdown",
   "metadata": {},
   "source": [
    "Cleaning Up Movie Data"
   ]
  },
  {
   "cell_type": "code",
   "execution_count": 119,
   "metadata": {},
   "outputs": [],
   "source": [
    "movie_data['Release'] = pd.to_datetime(movie_data['Release'], format='%d %b %Y')\n",
    "\n",
    "movie_data['Day_of_Year'] = movie_data['Release'].dt.dayofyear\n",
    "movie_data['Week_of_Year'] = movie_data['Release'].dt.isocalendar().week\n",
    "movie_data['Season'] = (movie_data['Release'].dt.month % 12 + 3) // 3\n",
    "movie_data['Month'] = movie_data['Release'].dt.month\n",
    "movie_data['Year'] = movie_data['Release'].dt.year\n",
    "\n",
    "movie_data = movie_data.drop(columns=\"Release\")"
   ]
  },
  {
   "cell_type": "code",
   "execution_count": 120,
   "metadata": {},
   "outputs": [],
   "source": [
    "movie_data['Runtime'] = movie_data['Runtime'].str.extract('(\\d+)').fillna(0).astype(int)"
   ]
  },
  {
   "cell_type": "code",
   "execution_count": 121,
   "metadata": {},
   "outputs": [
    {
     "name": "stderr",
     "output_type": "stream",
     "text": [
      "/var/folders/g7/gnzs3l6x61xcl7ny9d10xjjm0000gn/T/ipykernel_46532/1412894460.py:11: FutureWarning: The default value of regex will change from True to False in a future version. In addition, single character regular expressions will *not* be treated as literal strings when regex=True.\n",
      "  movie_data['Boxoffice'] = movie_data['Boxoffice'].str.replace(',', '').str.replace('$', '').astype(float)\n"
     ]
    }
   ],
   "source": [
    "# Feature engenieering the total wins and total nominations data\n",
    "movie_data['Total_Wins'] = movie_data['Noms'].str.extract('(\\d+) wins?').astype(float)\n",
    "movie_data['Total_Noms'] = movie_data['Noms'].str.extract('(\\d+) nominations?').astype(float)\n",
    "\n",
    "# Cleaning different website rating values\n",
    "movie_data['IMDB'] = movie_data['IMDB'].astype(float)\n",
    "movie_data['IMDB_Votes'] = movie_data['IMDB_Votes'].str.replace(',', '').astype(float)\n",
    "movie_data.loc[~movie_data['Rotten_Tomatoes'].str.contains('%', na=False), 'Rotten_Tomatoes'] = 0\n",
    "movie_data['Rotten_Tomatoes'] = movie_data['Rotten_Tomatoes'].str.replace('%', '').astype(float)\n",
    "movie_data['Metascore'] = movie_data['Metascore'].astype(float)\n",
    "movie_data['Boxoffice'] = movie_data['Boxoffice'].str.replace(',', '').str.replace('$', '').astype(float)\n",
    "\n",
    "movie_data = movie_data.drop(columns=\"Noms\")"
   ]
  },
  {
   "cell_type": "code",
   "execution_count": 122,
   "metadata": {},
   "outputs": [],
   "source": [
    "movie_data.to_csv(\"movie_data_no_dummies.csv\")"
   ]
  },
  {
   "cell_type": "code",
   "execution_count": 123,
   "metadata": {},
   "outputs": [],
   "source": [
    "# Making dummy variables for Parent Rating\n",
    "movie_data['Rating'].fillna('Unknown', inplace=True)\n",
    "movie_data = movie_data.assign(Rating=movie_data['Rating'].str.split(', ')).explode('Rating')\n",
    "Rating_indicators = pd.get_dummies(movie_data['Rating'], prefix='Rating')\n",
    "movie_data = pd.concat([movie_data, Rating_indicators], axis=1)\n",
    "movie_data.drop(columns=['Rating'], inplace=True)\n",
    "Rating_columns = movie_data.columns[movie_data.columns.str.startswith('Rating')]\n",
    "movie_data[Rating_columns] = movie_data.groupby(movie_data.index)[Rating_columns].transform('sum')\n",
    "movie_data.drop_duplicates(inplace=True)\n",
    "\n",
    "# Making dummy variables for Genres\n",
    "movie_data['Genre'].fillna('Unknown', inplace=True)\n",
    "movie_data = movie_data.assign(Genre=movie_data['Genre'].str.split(', ')).explode('Genre')\n",
    "genre_indicators = pd.get_dummies(movie_data['Genre'], prefix='Genre')\n",
    "movie_data = pd.concat([movie_data, genre_indicators], axis=1)\n",
    "movie_data.drop(columns=['Genre'], inplace=True)\n",
    "genre_columns = movie_data.columns[movie_data.columns.str.startswith('Genre')]\n",
    "movie_data[genre_columns] = movie_data.groupby(movie_data.index)[genre_columns].transform('sum')\n",
    "movie_data.drop_duplicates(inplace=True)\n",
    "\n",
    "# Making dummy variables for Directors\n",
    "movie_data['Director'].fillna('Unknown', inplace=True)\n",
    "movie_data = movie_data.assign(Director=movie_data['Director'].str.split(', ')).explode('Director')\n",
    "Director_indicators = pd.get_dummies(movie_data['Director'], prefix='Director')\n",
    "movie_data = pd.concat([movie_data, Director_indicators], axis=1)\n",
    "movie_data.drop(columns=['Director'], inplace=True)\n",
    "Director_columns = movie_data.columns[movie_data.columns.str.startswith('Director')]\n",
    "movie_data[Director_columns] = movie_data.groupby(movie_data.index)[Director_columns].transform('sum')\n",
    "movie_data.drop_duplicates(inplace=True)\n",
    "\n",
    "# Making dummy variables for Writers\n",
    "movie_data['Writer'].fillna('Unknown', inplace=True)\n",
    "movie_data = movie_data.assign(Writer=movie_data['Writer'].str.split(', ')).explode('Writer')\n",
    "Writer_indicators = pd.get_dummies(movie_data['Writer'], prefix='Writer')\n",
    "movie_data = pd.concat([movie_data, Writer_indicators], axis=1)\n",
    "movie_data.drop(columns=['Writer'], inplace=True)\n",
    "Writer_columns = movie_data.columns[movie_data.columns.str.startswith('Writer')]\n",
    "movie_data[Writer_columns] = movie_data.groupby(movie_data.index)[Writer_columns].transform('sum')\n",
    "movie_data.drop_duplicates(inplace=True)\n",
    "\n",
    "# Making dummy variables for Languages\n",
    "movie_data['Language'].fillna('Unknown', inplace=True)\n",
    "movie_data = movie_data.assign(Language=movie_data['Language'].str.split(', ')).explode('Language')\n",
    "Language_indicators = pd.get_dummies(movie_data['Language'], prefix='Language')\n",
    "movie_data = pd.concat([movie_data, Language_indicators], axis=1)\n",
    "movie_data.drop(columns=['Language'], inplace=True)\n",
    "Language_columns = movie_data.columns[movie_data.columns.str.startswith('Language')]\n",
    "movie_data[Language_columns] = movie_data.groupby(movie_data.index)[Language_columns].transform('sum')\n",
    "movie_data.drop_duplicates(inplace=True)\n",
    "\n",
    "# Making dummy variables for Countries\n",
    "movie_data['Country'].fillna('Unknown', inplace=True)\n",
    "movie_data = movie_data.assign(Country=movie_data['Country'].str.split(', ')).explode('Country')\n",
    "Country_indicators = pd.get_dummies(movie_data['Country'], prefix='Country')\n",
    "movie_data = pd.concat([movie_data, Country_indicators], axis=1)\n",
    "movie_data.drop(columns=['Country'], inplace=True)\n",
    "Country_columns = movie_data.columns[movie_data.columns.str.startswith('Country')]\n",
    "movie_data[Country_columns] = movie_data.groupby(movie_data.index)[Country_columns].transform('sum')\n",
    "movie_data.drop_duplicates(inplace=True)"
   ]
  },
  {
   "cell_type": "code",
   "execution_count": 124,
   "metadata": {},
   "outputs": [],
   "source": [
    "movie_data.to_csv(\"movie_data_dummies.csv\")"
   ]
  }
 ],
 "metadata": {
  "kernelspec": {
   "display_name": "base",
   "language": "python",
   "name": "python3"
  },
  "language_info": {
   "codemirror_mode": {
    "name": "ipython",
    "version": 3
   },
   "file_extension": ".py",
   "mimetype": "text/x-python",
   "name": "python",
   "nbconvert_exporter": "python",
   "pygments_lexer": "ipython3",
   "version": "3.11.4"
  }
 },
 "nbformat": 4,
 "nbformat_minor": 2
}
