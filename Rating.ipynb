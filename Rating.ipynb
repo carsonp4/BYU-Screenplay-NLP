{
 "cells": [
  {
   "cell_type": "code",
   "execution_count": 34,
   "metadata": {},
   "outputs": [],
   "source": [
    "import pandas as pd\n",
    "import os\n",
    "import shutil"
   ]
  },
  {
   "cell_type": "code",
   "execution_count": 35,
   "metadata": {},
   "outputs": [],
   "source": [
    "movie_data = pd.read_csv(\"movie_data_no_dummies.csv\", index_col=[0])"
   ]
  },
  {
   "cell_type": "code",
   "execution_count": 36,
   "metadata": {},
   "outputs": [],
   "source": [
    "ratings = movie_data[[\"title\", \"Rating\"]]"
   ]
  },
  {
   "cell_type": "code",
   "execution_count": 37,
   "metadata": {},
   "outputs": [
    {
     "data": {
      "text/plain": [
       "R            551\n",
       "PG-13        273\n",
       "PG           105\n",
       "Not Rated     19\n",
       "Passed        16\n",
       "G             13\n",
       "Approved       8\n",
       "NC-17          4\n",
       "TV-MA          3\n",
       "TV-14          2\n",
       "TV-PG          1\n",
       "X              1\n",
       "Unrated        1\n",
       "18+            1\n",
       "Name: Rating, dtype: int64"
      ]
     },
     "execution_count": 37,
     "metadata": {},
     "output_type": "execute_result"
    }
   ],
   "source": [
    "ratings[\"Rating\"].value_counts()"
   ]
  },
  {
   "cell_type": "code",
   "execution_count": 38,
   "metadata": {},
   "outputs": [],
   "source": [
    "ratings = ratings[ratings[\"Rating\"].isin([\"G\", \"PG\", \"PG-13\", \"R\"])].reset_index(drop=True)"
   ]
  },
  {
   "cell_type": "code",
   "execution_count": 39,
   "metadata": {},
   "outputs": [
    {
     "name": "stdout",
     "output_type": "stream",
     "text": [
      "Files sorted into folders based on ratings.\n"
     ]
    }
   ],
   "source": [
    "scripts_folder = 'RatingsScripts/'\n",
    "all_files = os.listdir(scripts_folder)\n",
    "\n",
    "for file in all_files:\n",
    "    # Check if the file is a .txt file\n",
    "    if file.endswith('.txt'):\n",
    "        file_path = os.path.join(scripts_folder, file)\n",
    "        \n",
    "        # Check if the file was not sorted\n",
    "        if not any(ratings['title'] == os.path.splitext(file)[0]):\n",
    "            os.remove(file_path)\n",
    "\n",
    "# Iterate over each row in the ratings table\n",
    "for index, row in ratings.iterrows():\n",
    "    title = row['title']\n",
    "    rating = row['Rating']\n",
    "    txt_file_path = os.path.join(scripts_folder, f\"{title}.txt\")\n",
    "    \n",
    "    # Check if the .txt file exists\n",
    "    if os.path.exists(txt_file_path):\n",
    "        # Create folder based on rating if it doesn't exist\n",
    "        rating_folder = os.path.join(scripts_folder, rating)\n",
    "        if not os.path.exists(rating_folder):\n",
    "            os.makedirs(rating_folder)\n",
    "        \n",
    "        # Move the .txt file to the corresponding folder\n",
    "        shutil.move(txt_file_path, os.path.join(rating_folder, f\"{title}.txt\"))\n",
    "    else:\n",
    "        print(f\"Warning: File not found for title '{title}'\")\n",
    "\n",
    "print(\"Files sorted into folders based on ratings.\")\n"
   ]
  },
  {
   "cell_type": "code",
   "execution_count": null,
   "metadata": {},
   "outputs": [],
   "source": []
  }
 ],
 "metadata": {
  "kernelspec": {
   "display_name": "base",
   "language": "python",
   "name": "python3"
  },
  "language_info": {
   "codemirror_mode": {
    "name": "ipython",
    "version": 3
   },
   "file_extension": ".py",
   "mimetype": "text/x-python",
   "name": "python",
   "nbconvert_exporter": "python",
   "pygments_lexer": "ipython3",
   "version": "3.11.4"
  }
 },
 "nbformat": 4,
 "nbformat_minor": 2
}
