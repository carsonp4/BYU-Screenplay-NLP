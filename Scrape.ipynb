{
  "cells": [
    {
      "cell_type": "code",
      "execution_count": 1,
      "id": "c1548655",
      "metadata": {},
      "outputs": [],
      "source": [
        "import pandas as pd\n",
        "import numpy as np\n",
        "import matplotlib.pyplot as plt\n",
        "import seaborn as sns\n",
        "\n",
        "from selenium import webdriver\n",
        "from selenium.webdriver.chrome.service import Service as ChromeService\n",
        "from webdriver_manager.chrome import ChromeDriverManager\n",
        "from selenium.webdriver.common.by import By\n",
        "\n",
        "import re\n",
        "import requests\n",
        "import urllib.parse"
      ]
    },
    {
      "cell_type": "markdown",
      "id": "30c2f8cb",
      "metadata": {},
      "source": [
        "Get Links to Pages of All Scripts"
      ]
    },
    {
      "cell_type": "code",
      "execution_count": 2,
      "id": "c04de8c3",
      "metadata": {},
      "outputs": [],
      "source": [
        "all_url = \"https://imsdb.com/all-scripts.html\"\n",
        "driver = webdriver.Chrome(service=ChromeService(ChromeDriverManager().install()))\n",
        "driver.get(all_url)\n",
        "container = driver.find_elements(By.XPATH, '//td[@valign=\"top\"]')[2]\n",
        "\n",
        "script_page_links = container.find_elements(By.TAG_NAME, \"p\")"
      ]
    },
    {
      "cell_type": "code",
      "execution_count": null,
      "id": "33b10cbc",
      "metadata": {},
      "outputs": [],
      "source": [
        "n_row = len(script_page_links)\n",
        "link_df = pd.DataFrame({'title': [''] * n_row, 'page_link': [''] * n_row, 'writer': [''] * n_row, 'script_link': [''] * n_row})"
      ]
    },
    {
      "cell_type": "code",
      "execution_count": null,
      "id": "51949496",
      "metadata": {},
      "outputs": [],
      "source": [
        "for i in range(len(script_page_links)):\n",
        "    link_df[\"title\"][i] = script_page_links[i].find_elements(By.XPATH, \".//a\")[0].text\n",
        "    link_df[\"page_link\"][i] = script_page_links[i].find_elements(By.XPATH, \".//a\")[0].get_attribute(\"href\")\n",
        "    link_df[\"writer\"][i] = script_page_links[i].find_elements(By.XPATH, \".//i\")[0].text\n",
        "\n",
        "link_df"
      ]
    },
    {
      "cell_type": "markdown",
      "id": "be4d48ea",
      "metadata": {},
      "source": [
        "Scrape Scripts Links"
      ]
    },
    {
      "cell_type": "code",
      "execution_count": null,
      "id": "f39c856a",
      "metadata": {},
      "outputs": [],
      "source": [
        "for i in range(len(script_page_links)):\n",
        "    driver.get(link_df[\"page_link\"][i])\n",
        "    try:\n",
        "        script_links = driver.find_elements(By.XPATH, '//a[contains(@href, \"/scripts/\")]')\n",
        "        if script_links:\n",
        "            link_df[\"script_link\"][i] = script_links[0].get_attribute(\"href\")\n",
        "        else:\n",
        "            link_df[\"script_link\"][i] = \"no script\"\n",
        "    except IndexError:\n",
        "        link_df[\"script_link\"][i] = \"no script\""
      ]
    },
    {
      "cell_type": "code",
      "execution_count": null,
      "id": "d988ad73",
      "metadata": {},
      "outputs": [],
      "source": [
        "link_df.to_csv(\"link_df.csv\")"
      ]
    },
    {
      "cell_type": "markdown",
      "id": "b513e9c7",
      "metadata": {},
      "source": [
        "Get Scripts"
      ]
    },
    {
      "cell_type": "code",
      "execution_count": null,
      "id": "cf4e5b69",
      "metadata": {},
      "outputs": [],
      "source": [
        "link_df = pd.read_csv(\"link_df.csv\", index_col=0)\n",
        "link_df = link_df[link_df[\"script_link\"] != \"no script\"]\n",
        "link_df.reset_index(drop=True, inplace=True)\n",
        "link_df[\"script_downloaded\"] = \"\"\n",
        "link_df"
      ]
    },
    {
      "cell_type": "code",
      "execution_count": 6,
      "id": "65df3ec4",
      "metadata": {},
      "outputs": [],
      "source": [
        "for i in range(915, len(link_df)):\n",
        "    driver.get(link_df[\"script_link\"][i])\n",
        "\n",
        "    try:\n",
        "        script_elements = driver.find_elements(By.TAG_NAME, \"pre\")\n",
        "        if script_elements:\n",
        "            link_df[\"script_downloaded\"][i] = \"Yes\"\n",
        "\n",
        "            script = script_elements[0].text\n",
        "            file_path = \"Scripts/\" + link_df[\"title\"][i] + \".txt\"\n",
        "            with open(file_path, \"w\") as file:\n",
        "                file.write(script)\n",
        "        else:\n",
        "            link_df[\"script_downloaded\"][i] = \"No\"\n",
        "    except IndexError:\n",
        "        link_df[\"script_downloaded\"][i] = \"No\"\n",
        "        \n",
        "\n",
        "    "
      ]
    },
    {
      "cell_type": "code",
      "execution_count": 7,
      "id": "fb5be9e9",
      "metadata": {},
      "outputs": [],
      "source": [
        "link_df.to_csv(\"script_ref.csv\")"
      ]
    },
    {
      "cell_type": "code",
      "execution_count": null,
      "id": "3ba350e5",
      "metadata": {},
      "outputs": [],
      "source": []
    }
  ],
  "metadata": {
    "colab": {
      "provenance": []
    },
    "kernelspec": {
      "display_name": "Python 3 (ipykernel)",
      "language": "python",
      "name": "python3"
    },
    "language_info": {
      "codemirror_mode": {
        "name": "ipython",
        "version": 3
      },
      "file_extension": ".py",
      "mimetype": "text/x-python",
      "name": "python",
      "nbconvert_exporter": "python",
      "pygments_lexer": "ipython3",
      "version": "3.11.4"
    }
  },
  "nbformat": 4,
  "nbformat_minor": 5
}
